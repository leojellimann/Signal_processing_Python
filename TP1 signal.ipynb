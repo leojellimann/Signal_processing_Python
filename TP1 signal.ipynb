{
 "cells": [
  {
   "cell_type": "markdown",
   "id": "8244ebe7-f4f5-4e52-a69b-6137170b8452",
   "metadata": {
    "jp-MarkdownHeadingCollapsed": true,
    "tags": []
   },
   "source": [
    "### Global imports"
   ]
  },
  {
   "cell_type": "code",
   "execution_count": null,
   "id": "1f042043-3847-40e6-aea5-976b8ed4df27",
   "metadata": {},
   "outputs": [],
   "source": [
    "#Général\n",
    "import numpy as np\n",
    "import matplotlib.pyplot as plt\n"
   ]
  },
  {
   "cell_type": "markdown",
   "id": "3befaef1-5f49-4a3a-80e6-5ecc5e2fb980",
   "metadata": {
    "jp-MarkdownHeadingCollapsed": true,
    "tags": []
   },
   "source": [
    "### Tracage d'un signal discret"
   ]
  },
  {
   "cell_type": "code",
   "execution_count": null,
   "id": "de2c4181-e246-4045-b34e-23905cda61ac",
   "metadata": {},
   "outputs": [],
   "source": [
    "n = np.arange(-5, 6, 1)\n",
    "\n",
    "x = np.where(n==1,1,0) + np.where(n==-1,-1,0)\n",
    "y = np.where(np.abs(n)<=1,2,0)\n",
    "\n",
    "z = np.convolve(x,y,mode=\"same\")\n",
    "\n",
    "plt.stem(n,x,'.')\n",
    "plt.xlabel(\"t\")\n",
    "plt.ylabel(\"x[n]\")\n",
    "plt.title(\"x\")\n",
    "plt.show()\n",
    "\n",
    "plt.stem(n,y,'.')\n",
    "plt.xlabel(\"t\")\n",
    "plt.ylabel(\"y[n]\")\n",
    "plt.title(\"y\")\n",
    "plt.show()\n",
    "\n",
    "plt.stem(n,z,'.')\n",
    "plt.xlabel(\"t\")\n",
    "plt.ylabel(\"z(t)\")\n",
    "plt.title(\"covolution\")\n",
    "plt.show()"
   ]
  },
  {
   "cell_type": "markdown",
   "id": "2ebe1830-52ff-4223-a959-4256267dc643",
   "metadata": {
    "jp-MarkdownHeadingCollapsed": true,
    "tags": []
   },
   "source": [
    "### Importation de fichier wav"
   ]
  },
  {
   "cell_type": "code",
   "execution_count": null,
   "id": "0bb34538-1265-4781-ae38-452f5d997f35",
   "metadata": {},
   "outputs": [],
   "source": [
    "#   Imports\n",
    "from scipy.io import wavfile\n",
    "import scipy.io\n",
    "import IPython\n",
    "\n",
    "#   Récupération du fichier wav \"chord.wav\" situé dans le répertoir de travail\n",
    "# Outputs :\n",
    "# fe : valeur d'echantillonage du fichier\n",
    "# x : valeurs de la piste stéréo (2 colonnes) ou mono\n",
    "fe, x = wavfile.read(\"chord.wav\")\n",
    "# si la piste est en stereo,\n",
    "# récupération uniquement de la colonne d'indice 0 :\n",
    "xMono = x[:,0]\n",
    "# exemple qui récupère les 5001 premières valeurs du signal mono :\n",
    "xMonoSmall = xMono[0:5000]\n",
    "\n",
    "#   Affichage\n",
    "# definition d'un tableau de valeur allant de 0 à la taille de xMonoSmall\n",
    "n = np.arange(len(xMonoSmall))\n",
    "# division de chaque valeur de ce tableau n par la fréquence d'échantillonage pour adapter à l'echelle réelle\n",
    "t = n/fe\n",
    "# set la taille d'une nouvelle figure\n",
    "fig = plt.figure(figsize=(15,3))\n",
    "# plot xMonoSmall en fonction de t :\n",
    "plt.plot(t, xMonoSmall)\n",
    "# définition des labels des axes\n",
    "plt.xlabel(\"Time [s]\")\n",
    "plt.ylabel(\"Amplitude\")\n",
    "# affichage\n",
    "plt.show()"
   ]
  },
  {
   "cell_type": "markdown",
   "id": "f9472803-52d9-46d1-a249-4b05d9c148a5",
   "metadata": {
    "jp-MarkdownHeadingCollapsed": true,
    "tags": []
   },
   "source": [
    "### Importation d'un csv"
   ]
  },
  {
   "cell_type": "code",
   "execution_count": null,
   "id": "19a8c4e7-9b09-4251-8334-b263dd0029b5",
   "metadata": {},
   "outputs": [],
   "source": [
    "# Chargement du signal \"ecg_lfn.csv\" \n",
    "csv = np.loadtxt(\"ecg_lfn.csv\")\n",
    "n = len(csv)\n",
    "# génération du vecteur temporelle allant de 0 à la longueur du csv et on divise par 1000 car c'est la fe\n",
    "t = np.arange(0, n)/1000\n",
    "\n",
    "# Affichage du signal\n",
    "plt.plot(t,csv)\n",
    "plt.xlabel(\"t\")\n",
    "plt.ylabel(\"y\")\n",
    "plt.title(\"csv\")\n",
    "plt.show()"
   ]
  },
  {
   "cell_type": "markdown",
   "id": "e5779987-6520-44f0-aaab-efd23ad84451",
   "metadata": {
    "jp-MarkdownHeadingCollapsed": true,
    "tags": []
   },
   "source": [
    "### TFD tracer"
   ]
  },
  {
   "cell_type": "code",
   "execution_count": null,
   "id": "d1ffc534-1270-4fef-b09b-bf504351f954",
   "metadata": {},
   "outputs": [],
   "source": [
    "#   Traceurs de TFD :\n",
    "\n",
    "# signal : signal temporel à transformer\n",
    "# Te : Période d'echantillonage\n",
    "# t : axe temporel du signal\n",
    "# (optionel) xLim : tableau des limites de l'axe des abscisses, ex : (-10,10)\n",
    "# (optionel) yLimGain : tableau des limites de l'axe des ordonnées du gain, ex : (-10,10)\n",
    "# (optionel) yLimPhase : tableau des limites de l'axe des ordonnées de la phase, ex : (-10,10)\n",
    "def tracer_TFD(signal, Te, t, xLim=(0,0), yLimGain=(0,0), yLimPhase=(0,0)):\n",
    "    k = np.arange(0, len(signal))\n",
    "    N = len(t)\n",
    "    k_prime = k - np.floor(N / 2)\n",
    "    fe = 1 / Te\n",
    "    f = k_prime * (fe / N)\n",
    "    \n",
    "    TFD = np.fft.fft(signal)\n",
    "    TFD_shifted = np.fft.fftshift(TFD)\n",
    "    \n",
    "    fig, axs = plt.subplots(2,figsize=(20, 8))\n",
    "    fig.suptitle('TFD')\n",
    "    axs[0].plot(f, np.abs(TFD_shifted))\n",
    "    axs[1].plot(f, np.angle(TFD_shifted))\n",
    "    if xLim != (0,0): \n",
    "        axs[0].set_xlim(xLim)\n",
    "        axs[1].set_xlim(xLim)\n",
    "    if yLimGain != (0,0): \n",
    "        axs[0].set_ylim(yLimGain)\n",
    "    if yLimPhase != (0,0): \n",
    "        axs[1].set_ylim(yLimPhase)\n",
    "    plt.grid()\n",
    "    plt.show()\n",
    "\n",
    "# exemple :    \n",
    "# tracer_TFD(signal = xMonoSmall, Te = 1/fe, t = t, xLim = (-1000,1000), yLimGain = (0,200))"
   ]
  },
  {
   "cell_type": "markdown",
   "id": "be6b7344-f760-4d3f-b08c-b9ab0bba14b0",
   "metadata": {
    "jp-MarkdownHeadingCollapsed": true,
    "tags": []
   },
   "source": [
    "### Tracer de gabaris"
   ]
  },
  {
   "cell_type": "code",
   "execution_count": null,
   "id": "2e005143-9f97-4d8c-982d-cbd039c49b9b",
   "metadata": {},
   "outputs": [],
   "source": [
    "debutZoneTransition = 0.8\n",
    "finZoneTransition = 1\n",
    "attenuationMin = -60\n",
    "ondulBandePassante = -1\n",
    "#uniquement pour passe bande :\n",
    "debutZoneTransition2 = 1.8\n",
    "finZoneTransition2 = 2\n",
    "\n",
    "###################################\n",
    "#   Passe haut :\n",
    "# Abscisses des 4 points de la ligne brisée\n",
    "x = [finZoneTransition, finZoneTransition, 2*finZoneTransition]\n",
    "x2 = [0, debutZoneTransition, debutZoneTransition]\n",
    "\n",
    "# Ordonnés des 4 points de la ligne brisée\n",
    "y = [attenuationMin, ondulBandePassante, ondulBandePassante]\n",
    "y2 = [attenuationMin, attenuationMin, 0]\n",
    "\n",
    "# Affichage\n",
    "plt.figure(figsize=(5,3))\n",
    "plt.plot(x, y, color='k', linestyle='--', marker='*')\n",
    "plt.plot(x2, y2, color='k', linestyle='--', marker='*')\n",
    "plt.show()\n",
    "\n",
    "\n",
    "###################################\n",
    "#   Passe bas\n",
    "# Abscisses des 4 points de la ligne brisée\n",
    "x = [finZoneTransition, finZoneTransition, 2*finZoneTransition]\n",
    "x2 = [0, debutZoneTransition, debutZoneTransition]\n",
    "\n",
    "# Ordonnés des 4 points de la ligne brisée\n",
    "y = [0, attenuationMin, attenuationMin]\n",
    "y2 = [ondulBandePassante, ondulBandePassante, attenuationMin]\n",
    "\n",
    "# Affichage\n",
    "plt.figure(figsize=(5,3))\n",
    "plt.plot(x, y, color='k', linestyle='--', marker='*')\n",
    "plt.plot(x2, y2, color='k', linestyle='--', marker='*')\n",
    "plt.show()\n",
    "\n",
    "\n",
    "###################################\n",
    "#   Passe bande\n",
    "# Abscisses des 4 points de la ligne brisée\n",
    "x = [finZoneTransition, finZoneTransition, debutZoneTransition2, debutZoneTransition2]\n",
    "x2 = [0, debutZoneTransition, debutZoneTransition]\n",
    "x3 = [finZoneTransition2, finZoneTransition2, finZoneTransition2*2]\n",
    "\n",
    "# Ordonnés des 4 points de la ligne brisée\n",
    "y = [attenuationMin, ondulBandePassante, ondulBandePassante, attenuationMin]\n",
    "y2 = [attenuationMin, attenuationMin, 0]\n",
    "y3 = [0, attenuationMin, attenuationMin]\n",
    "\n",
    "# Affichage\n",
    "plt.figure(figsize=(5,3))\n",
    "plt.plot(x, y, color='k', linestyle='--', marker='*')\n",
    "plt.plot(x2, y2, color='k', linestyle='--', marker='*')\n",
    "plt.plot(x3, y3, color='k', linestyle='--', marker='*')\n",
    "plt.show()"
   ]
  },
  {
   "cell_type": "markdown",
   "id": "5dde8655-b625-4577-bebe-97301fa112b7",
   "metadata": {
    "jp-MarkdownHeadingCollapsed": true,
    "tags": []
   },
   "source": [
    "### Définition des filtres"
   ]
  },
  {
   "cell_type": "markdown",
   "id": "edcbacf5-49f4-4fa3-a9b7-4a63b5cc2f6a",
   "metadata": {
    "jp-MarkdownHeadingCollapsed": true,
    "tags": []
   },
   "source": [
    "#### RIF"
   ]
  },
  {
   "cell_type": "code",
   "execution_count": null,
   "id": "abd0e9fb-8011-4999-86a3-ea9cb4513e22",
   "metadata": {},
   "outputs": [],
   "source": [
    "from math import *\n",
    "import scipy as sp\n",
    "import scipy.signal as sps\n",
    "\n",
    "fc = 0.6\n",
    "bandeTransition = 0.3\n",
    "\n",
    "fn = fc - bandeTransition\n",
    "x = [fc, fc, 10]\n",
    "x2 = [0, fn, fn, 10]\n",
    "y = [-65, -1, -1]\n",
    "y2 = [-60, -60, 1, 1]\n",
    "\n",
    "if (fe*4.32/fn)%2 == 1:\n",
    "    N = fe*4.32/fn\n",
    "else:\n",
    "    N = fe*4.32/fn+1\n",
    "\n",
    "# Donne la fonction de transfert du filtre\n",
    "reponseImpul = sps.firwin(ceil(N), cutoff = (fc+fn)/2, window = (\"kaiser\", 6.764), fs = fe, pass_zero = \"highpass\")\n",
    "# Donne la réponse frequentielle du filtre en partant de la fonction de transfert\n",
    "w,h = sps.freqz(reponseImpul, 1, fs = fe, worN = 9000)\n",
    "gain = 20*np.log10(np.abs(h))\n",
    "\n",
    "plt.plot(w,gain)\n",
    "plt.plot(x, y, color='k', linestyle='--', marker='*')\n",
    "plt.plot(x2, y2, color='k', linestyle='--', marker='*')\n",
    "plt.xlim([0,2])\n",
    "plt.ylim([-65,1])\n",
    "plt.show\n",
    "\n",
    "# retard de groupe\n",
    "w,gd = sps.group_delay((reponseImpul,1))\n",
    "plt.plot(w,gd)\n",
    "plt.xlim([0,1])\n",
    "plt.show()\n",
    "\n",
    "# Diagramme pôles-zéros\n",
    "z,p,k = sps.tf2zpk(reponseImpul,1)\n",
    "\n",
    "plt.plot(np.real(z), np.imag(z),\"o\", mfc='none')\n",
    "plt.plot(np.real(p), np.imag(p),\"+\", mfc='none')\n",
    "plt.show()"
   ]
  },
  {
   "cell_type": "markdown",
   "id": "3d43f4e0-5acd-447d-9097-63a2256dc315",
   "metadata": {
    "jp-MarkdownHeadingCollapsed": true,
    "tags": []
   },
   "source": [
    "#### RII"
   ]
  },
  {
   "cell_type": "code",
   "execution_count": null,
   "id": "b5d61f00-48f5-45aa-8df1-831929ea858e",
   "metadata": {},
   "outputs": [],
   "source": [
    "import math\n",
    "\n",
    "Rii_ftype = \"cheby2\"\n",
    "fa = (fe/np.pi)*math.tan(np.pi*(fn/fe))\n",
    "\n",
    "# Abscisses des 4 points de la ligne brisée\n",
    "x = [fc, fc, 10]\n",
    "x2 = [0, fa, fa]\n",
    "\n",
    "# Ordonnés des 4 points de la ligne brisée\n",
    "y = [-60, -1, -1]\n",
    "y2 = [-60, -60, 1]\n",
    "\n",
    "# Donne la fonction de transfert du filtre\n",
    "# b : numerateurs\n",
    "# a : dénominateur\n",
    "b,a = sps.iirdesign(wp = fc, ws = fa, gpass = 0.5, gstop = 60, ftype = Rii_ftype, fs = fe)\n",
    "\n",
    "w,h = sps.freqz(b = b,a = a, fs = fe, worN = 9000)\n",
    "gain = 20*np.log10(np.abs(h+1e-12))\n",
    "plt.plot(w,gain)\n",
    "plt.plot(x, y, color='k', linestyle='--', marker='*')\n",
    "plt.plot(x2, y2, color='k', linestyle='--', marker='*')\n",
    "plt.xlim([0,2])\n",
    "plt.ylim([-65,1])\n",
    "plt.show()\n",
    "\n",
    "\n",
    "# Retard de groupe\n",
    "w,gd = sps.group_delay((b,a))\n",
    "plt.plot(w,gd)\n",
    "plt.plot((fc, fc), (-100, 100), linestyle='--', color='k', linewidth=1)\n",
    "plt.plot((0, len(gd)), (0, 0), linestyle='--', color='k', linewidth=1)\n",
    "plt.xlim([0,2])\n",
    "plt.ylim([-10,10])\n",
    "plt.title(\"Filtre RII - retard de groupe\")\n",
    "plt.show()\n",
    "\n",
    "# Diagramme des pôles et des zéros\n",
    "z,p,k = sps.tf2zpk(b,a)\n",
    "\n",
    "teta = np.arange(0,2*np.pi,0.01)\n",
    "\n",
    "plt.plot(np.real(z), np.imag(z),\"o\", mfc='none')\n",
    "plt.plot(np.real(p), np.imag(p),\"+\", mfc='none')\n",
    "plt.plot(np.cos(teta), np.sin(teta), mfc='none')\n",
    "plt.xlim([0.75,1.05])\n",
    "plt.ylim([-0.25,0.25])\n",
    "plt.title(\"Filtre RII - Pôles et zéros\")\n",
    "plt.show()"
   ]
  },
  {
   "cell_type": "markdown",
   "id": "dfa47cb0-58af-4440-b4f0-ba369639909b",
   "metadata": {
    "jp-MarkdownHeadingCollapsed": true,
    "tags": []
   },
   "source": [
    "### Application d'un filtre RIF et RII"
   ]
  },
  {
   "cell_type": "code",
   "execution_count": null,
   "id": "a9957007-80c6-46f2-9ed2-d68b34d6769b",
   "metadata": {},
   "outputs": [],
   "source": [
    "# Le RIF a un retard de groupe.\n",
    "# Il faut donc decaler le signal de N (l'ordre) divisé par 2 :\n",
    "signal_e_gdajust = np.lib.pad(signal_e,(1,ceil(N/2)))\n",
    "\n",
    "# application du RIF\n",
    "signal_e_RIF = sps.lfilter(reponseImpul,1,signal_e)\n",
    "n = len(signal_e_RIF)\n",
    "t = np.arange(0, n)/(fe)\n",
    "\n",
    "plt.plot(t, signal_e_RIF)\n",
    "plt.plot(t, signal_e_gdajust, linestyle=\"dotted\")\n",
    "plt.xlabel(\"t\")\n",
    "plt.ylabel(\"ecg\")\n",
    "plt.title(\"Filtre RIF\")\n",
    "plt.xlim([ceil(N/2)/fe,ceil(N/2)/fe+2])\n",
    "plt.show()\n",
    "\n",
    "# application du RII\n",
    "signal_e_RII = sps.lfilter(b,a,signal_e)\n",
    "n = len(signal_e_RII)\n",
    "t = np.arange(0, n)/fe\n",
    "\n",
    "plt.plot(t, signal_e_RII)\n",
    "plt.plot(t, signal_e, linestyle=\"dotted\")\n",
    "plt.xlabel(\"t\")\n",
    "plt.ylabel(\"ecg\")\n",
    "plt.title(\"Filtre RII\")\n",
    "plt.xlim([0,2])\n",
    "plt.show()"
   ]
  },
  {
   "cell_type": "markdown",
   "id": "125bade1-dd77-4930-b7b3-085fc1d82f1b",
   "metadata": {
    "jp-MarkdownHeadingCollapsed": true,
    "tags": []
   },
   "source": [
    "### Bruitage avec RSB en parametre"
   ]
  },
  {
   "cell_type": "code",
   "execution_count": null,
   "id": "b7cb16bc-2750-4925-ace8-9ccb005aec3b",
   "metadata": {},
   "outputs": [],
   "source": [
    "N = len(sequence_t)\n",
    "Px = 0\n",
    "Pb = 0\n",
    "RSB = 0\n",
    "\n",
    "# Calcul de la puissance du signal\n",
    "for i in range(N):\n",
    "    Px = Px + sequence_h[i]**2\n",
    "Px = (1/N) * Px\n",
    "\n",
    "et = np.sqrt(Px) * 10**(-RSB/20)\n",
    "\n",
    "# Géneration du bruit\n",
    "noise = np.random.normal(0,et,N)\n",
    "\n",
    "# Ajout du bruit\n",
    "for i in range(N):\n",
    "    Pb = Pb + noise[i]**2\n",
    "Pb = (1/N) * Pb\n",
    "\n",
    "# Recalcul du RSB et des autres variable pour vérifier\n",
    "RSB = 10*np.log10(Px/Pb)\n",
    "print(RSB)\n",
    "print(Px)\n",
    "print(et)\n",
    "\n",
    "sequence_h_noise = sequence_h + noise\n",
    "\n",
    "plt.plot(sequence_t,noise, color=\"orange\")\n",
    "plt.title(\"Bruit\")\n",
    "plt.show()\n",
    "plt.plot(sequence_t,sequence_h_noise, color=\"orange\")\n",
    "plt.plot(sequence_t,sequence_h, color=\"blue\", linestyle=\"--\")\n",
    "plt.title(\"Motif bruité\")\n",
    "plt.show()"
   ]
  },
  {
   "cell_type": "markdown",
   "id": "6002cae2-53d3-4b23-ad7d-787e073bbafe",
   "metadata": {
    "jp-MarkdownHeadingCollapsed": true,
    "tags": []
   },
   "source": [
    "### Débruitage"
   ]
  },
  {
   "cell_type": "markdown",
   "id": "58e34087-5a4d-44b0-ba14-2f895a75603f",
   "metadata": {
    "jp-MarkdownHeadingCollapsed": true,
    "tags": []
   },
   "source": [
    "#### Recherche de motif (filtre adapté / matched filter)"
   ]
  },
  {
   "cell_type": "code",
   "execution_count": null,
   "id": "e93b6a42-dad0-472d-8747-647b83c629c9",
   "metadata": {},
   "outputs": [],
   "source": [
    "# h est le motif recherché :\n",
    "\n",
    "interCorrel = np.correlate(sequence_h_noise,h,\"same\")\n",
    "\n",
    "plt.plot(sequence_t,sequence_h_noise, color=\"orange\", linestyle=\"--\")\n",
    "plt.plot(sequence_t,interCorrel/100)\n",
    "plt.ylim(-2,2)\n",
    "plt.title(\"Intercorrelation\")\n",
    "plt.show()"
   ]
  },
  {
   "cell_type": "markdown",
   "id": "8e1e371b-7809-4dc2-9228-dbe8c2cc7dcc",
   "metadata": {
    "jp-MarkdownHeadingCollapsed": true,
    "tags": []
   },
   "source": [
    "#### Moyenne glissante"
   ]
  },
  {
   "cell_type": "code",
   "execution_count": null,
   "id": "b6a14aa0-6e97-427c-8e7e-b36ffa619ece",
   "metadata": {},
   "outputs": [],
   "source": [
    "N = 5\n",
    "P = np.ones(N)/N\n",
    "x_moy = np.convolve(P,x,mode=\"same\")\n",
    "\n",
    "\n",
    "plt.figure(figsize=(25, 6))\n",
    "plt.grid()\n",
    "plt.plot(t, x, linestyle='--')\n",
    "plt.plot(t, x_moy)\n",
    "plt.title(\"Titre\")\n",
    "plt.show()"
   ]
  },
  {
   "cell_type": "markdown",
   "id": "42c9abc2-7ec2-4b42-b2af-948880a8ddb5",
   "metadata": {
    "jp-MarkdownHeadingCollapsed": true,
    "tags": []
   },
   "source": [
    "#### Moindres carrés"
   ]
  },
  {
   "cell_type": "code",
   "execution_count": null,
   "id": "926a64e8-412c-4e7a-83b6-2e0cbed5d2bd",
   "metadata": {},
   "outputs": [],
   "source": [
    "n = np.arange(0,1,1/len(t))\n",
    "\n",
    "y = np.transpose(np.array(temp))\n",
    "H = np.transpose(np.array([n**0, n**1, n**2]))\n",
    "theta = np.dot(np.dot(np.linalg.pinv(np.dot(np.transpose(H), H)), np.transpose(H)), y)\n",
    "print(theta)\n",
    "\n",
    "mc = theta[0] + theta[1]*n + theta[2]*(n**2)\n",
    "\n",
    "plt.figure(figsize=(25, 6))\n",
    "plt.grid()\n",
    "plt.plot(t, temp, linestyle='--')\n",
    "plt.plot(t, mc)\n",
    "plt.title(\"Réchauffement climatique\")\n",
    "plt.show()"
   ]
  }
 ],
 "metadata": {
  "kernelspec": {
   "display_name": "Python 3 (ipykernel)",
   "language": "python",
   "name": "python3"
  },
  "language_info": {
   "codemirror_mode": {
    "name": "ipython",
    "version": 3
   },
   "file_extension": ".py",
   "mimetype": "text/x-python",
   "name": "python",
   "nbconvert_exporter": "python",
   "pygments_lexer": "ipython3",
   "version": "3.9.9"
  }
 },
 "nbformat": 4,
 "nbformat_minor": 5
}
